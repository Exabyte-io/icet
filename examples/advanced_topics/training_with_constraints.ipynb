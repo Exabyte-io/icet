{
 "cells": [
  {
   "cell_type": "markdown",
   "id": "9aa77393-5079-474d-9580-311f509a2c94",
   "metadata": {},
   "source": [
    "# Training with constraints and weights\n",
    "\n",
    "In this tutorial, we show how constraints and weights can be used in `icet`.\n",
    "Here, we mean constraints in the sense of any function that is a function of one or several cluster vectors. "
   ]
  },
  {
   "cell_type": "markdown",
   "id": "c2da626e-2560-4d5d-bd3d-cfbb489e7593",
   "metadata": {
    "tags": []
   },
   "source": [
    "## Exact constraints\n",
    "\n",
    "First we show how exact linear constraits can be enforced.\n",
    "This entails reformulating the linear problem such that a certain condition has to be fulfilled and can be achieved by using the `Constraints` class.\n",
    "Note that this is only possible for conditions that can be formulated such that the right-hand-side of the linear problem equals zero. \n",
    "\n",
    "The constraint is enforced via a matrix $M$ with dimensions $(n_{const}, n_{params})$ where $n_{const}$ is the number of constraits and $n_{params}$ is the number of effective cluster interactions (ECIs).\n",
    "Element $M_{ij}$ determines how the $j$-th ECI contributes to constraint $i$.\n",
    "\n",
    "In the example below, we demonstrate fitting of a cluster expansion under the constraint that parameter 2 and parameter 4 should be equal.\n",
    "This entails setting up a matrix with elements $M_{02}=1$ and $M_{04}=-1$ such that the constraint applied to the linear problem results in $p_2 - p_4 = 0$ where $p_j$ is ECI $j$."
   ]
  },
  {
   "cell_type": "code",
   "execution_count": 1,
   "id": "16ec6ac1-d813-45aa-9442-7bd4c6188b2a",
   "metadata": {
    "tags": []
   },
   "outputs": [
    {
     "name": "stdout",
     "output_type": "stream",
     "text": [
      "0.06936944354493091 0.06936944354493094\n"
     ]
    }
   ],
   "source": [
    "import numpy as np\n",
    "from icet.tools import Constraints\n",
    "from trainstation import Optimizer\n",
    "\n",
    "# Set up random sensing matrix and target \"energies\"\n",
    "n_params = 10\n",
    "n_energies = 20\n",
    "A = np.random.random((n_energies, n_params))\n",
    "y = np.random.random(n_energies)\n",
    "\n",
    "# Define constraints\n",
    "c = Constraints(n_params=n_params)\n",
    "M = np.zeros((1, n_params))\n",
    "M[0, 2] = 1\n",
    "M[0, 4] = -1\n",
    "c.add_constraint(M)\n",
    "\n",
    "# Do the actual fit and finally extract parameters\n",
    "A_constrained = c.transform(A)\n",
    "opt = Optimizer((A_constrained, y), fit_method='ridge')\n",
    "opt.train()\n",
    "parameters = c.inverse_transform(opt.parameters)\n",
    "\n",
    "print(parameters[2], parameters[4])"
   ]
  },
  {
   "cell_type": "markdown",
   "id": "937c7c7a-8c3a-4cbf-b431-e3a2d78902b6",
   "metadata": {},
   "source": [
    "We see that the parameters with index 2 and 4 are exactly equal as expected. \n",
    "\n",
    "Another example is to use this feature to constrain the mixing energy to zero at the pure phases.\n",
    "Below, we show how this is achieved for a toy system with random cluster vectors and random target energies."
   ]
  },
  {
   "cell_type": "code",
   "execution_count": 2,
   "id": "3dd4d791-8795-4a3b-8512-11be18b0e85b",
   "metadata": {
    "tags": []
   },
   "outputs": [
    {
     "name": "stdout",
     "output_type": "stream",
     "text": [
      "Au:  7.771561172376096e-16\n",
      "Ag:  1.1102230246251565e-16\n"
     ]
    }
   ],
   "source": [
    "import numpy as np\n",
    "from ase.build import bulk\n",
    "from icet import ClusterSpace, ClusterExpansion\n",
    "from icet.tools import get_mixing_energy_constraints\n",
    "from trainstation import Optimizer\n",
    "\n",
    "# Set up cluster space along with random sensing matrix and target \"energies\"\n",
    "Au, Ag = bulk('Au', a=4.0), bulk('Ag', a=4.0)\n",
    "cs = ClusterSpace(Au, cutoffs=[6.0, 5.0], chemical_symbols=['Au', 'Ag'])\n",
    "n_params = len(cs)\n",
    "n_energies = 20\n",
    "A = np.random.random((n_energies, n_params))\n",
    "y = np.random.random(n_energies)\n",
    "\n",
    "# Define constraints\n",
    "c = get_mixing_energy_constraints(cs)\n",
    "\n",
    "# Do the actual fit and finally extract parameters\n",
    "A_constrained = c.transform(A)\n",
    "opt = Optimizer((A_constrained, y), fit_method='ridge')\n",
    "opt.train()\n",
    "parameters = c.inverse_transform(opt.parameters)\n",
    "\n",
    "# Construct cluster expansion\n",
    "ce = ClusterExpansion(cs, parameters)\n",
    "print('Au: ', ce.predict(Au))\n",
    "print('Ag: ', ce.predict(Ag))"
   ]
  },
  {
   "cell_type": "markdown",
   "id": "8e412bf3-740a-4332-851b-c2cbafd404fd",
   "metadata": {},
   "source": [
    "We see that for the pure elements, the prediction is (very close to) zero (due to the floating point precision). "
   ]
  },
  {
   "cell_type": "markdown",
   "id": "f8964e27-b12b-4e01-a637-4f12678f046a",
   "metadata": {},
   "source": [
    "## Weighted constraints\n",
    "\n",
    "In some cases, one might want to introduce more flexible constraints that are weighted and/or have a non-zero right-hand-size.\n",
    "This can be achieved by manually manipulating the sensing matrix. \n",
    "\n",
    "First, we show the simple example of adding a weight to structure 3 in the training set using the toy system from the example above.\n",
    "This is achieved by setting up a weight vector $W$ where element $W_i$ corresponds to the weight of structure $i$."
   ]
  },
  {
   "cell_type": "code",
   "execution_count": 3,
   "id": "c942438a-4f1b-4789-a3e6-14113e44e6c7",
   "metadata": {},
   "outputs": [
    {
     "name": "stdout",
     "output_type": "stream",
     "text": [
      "Structure 0 error: -0.23922788020875074\n",
      "Structure 1 error: 0.010046343959063009\n",
      "Structure 2 error: -0.089031447377665\n",
      "Structure 3 error: -0.0023861248597936147\n",
      "Structure 4 error: 0.009128818679495665\n"
     ]
    }
   ],
   "source": [
    "W = np.ones(n_energies)\n",
    "W[3] = 5.0\n",
    "\n",
    "# Multiply each row of A and element of y with the corresponding weight\n",
    "A_weighted = np.multiply(A, W.reshape(-1,1))\n",
    "y_weighted = W * y\n",
    "\n",
    "# Do the training\n",
    "opt = Optimizer((A_weighted, y_weighted), fit_method='ridge')\n",
    "opt.train()\n",
    "parameters = opt.parameters\n",
    "\n",
    "# Check the errors for the first five structures\n",
    "for i in range(5):\n",
    "    print(f'Structure {i} error: {parameters.dot(A[i,:]) - y[i]}')\n"
   ]
  },
  {
   "cell_type": "markdown",
   "id": "afb86275-2c48-46ae-b6c7-c288a08c67fe",
   "metadata": {},
   "source": [
    "We see that the result of structure 3 is much smaller than the other errors, since it is given higher priority in training. \n",
    "\n",
    "One can also add weighted constraints corresponding to any function of any number of cluster vectors.\n",
    "Here, we show an example where we want the energy of structures 2 and 3 to be similar.\n",
    "This is achieved by adding a new row to the sensing matrix. "
   ]
  },
  {
   "cell_type": "code",
   "execution_count": 4,
   "id": "3cc21fbe-7829-463e-9dd5-123e60111f1d",
   "metadata": {
    "tags": []
   },
   "outputs": [
    {
     "name": "stdout",
     "output_type": "stream",
     "text": [
      "Structure 2 w/o constr.: 0.5882,w/ constr: 0.5951, target: 0.6392\n",
      "Structure 3 w/o constr.: 0.7107,w/ constr: 0.5914, target: 0.7764\n"
     ]
    }
   ],
   "source": [
    "# Set up a new row for sensing matrix corresponding to the difference in\n",
    "# cluster vector for structures 2 and 3 and a corresponding target value 0.0\n",
    "A_add = A[2,:] - A[3,:]\n",
    "y_add = 0.0 \n",
    "\n",
    "# Select a weight for the constraint\n",
    "w = 5.0\n",
    "\n",
    "# Stack sensing matricies and target vectors\n",
    "A_constrained = np.vstack((A, w * A_add))\n",
    "y_constrained = np.hstack((y, w * y_add))\n",
    "\n",
    "# First train without the constraint\n",
    "opt = Optimizer((A, y), fit_method='ridge')\n",
    "opt.train()\n",
    "parameters_ref = opt.parameters\n",
    "\n",
    "# Then train with the constraint\n",
    "opt = Optimizer((A_constrained, y_constrained), fit_method='ridge')\n",
    "opt.train()\n",
    "parameters = opt.parameters\n",
    "\n",
    "# Check the predicted and target energy for the first five structures\n",
    "for i in [2,3]:\n",
    "    print(f'Structure {i} w/o constr.: {parameters_ref.dot(A[i,:]):.4f},'\n",
    "          f'w/ constr: {parameters.dot(A[i,:]):.4f}, target: {y[i]:.4f}')"
   ]
  },
  {
   "cell_type": "markdown",
   "id": "7028fc2b-8d1d-411b-b782-c4e9a99d898a",
   "metadata": {},
   "source": [
    "We see that the predicted energies with added constraits are much closer than without constraints.\n",
    "\n",
    "This approach is useful, e.g., for constraining the surface segregation energy for surface slabs as demonstrated [here](https://ce-tutorials.materialsmodeling.org/part-2/low-symmetry-ce.html#CE-with-weighted-constraints)."
   ]
  }
 ],
 "metadata": {
  "kernelspec": {
   "display_name": "Python 3 (ipykernel)",
   "language": "python",
   "name": "python3"
  },
  "language_info": {
   "codemirror_mode": {
    "name": "ipython",
    "version": 3
   },
   "file_extension": ".py",
   "mimetype": "text/x-python",
   "name": "python",
   "nbconvert_exporter": "python",
   "pygments_lexer": "ipython3",
   "version": "3.10.12"
  }
 },
 "nbformat": 4,
 "nbformat_minor": 5
}
