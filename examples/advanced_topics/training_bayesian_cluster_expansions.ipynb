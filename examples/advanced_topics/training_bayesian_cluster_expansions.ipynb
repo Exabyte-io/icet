{
 "cells": [
  {
   "cell_type": "markdown",
   "id": "cc0f7ee2-866c-4c84-976b-9f754c19dd4a",
   "metadata": {
    "editable": true,
    "slideshow": {
     "slide_type": ""
    },
    "tags": []
   },
   "source": [
    "# Bayesian cluster expansions\n",
    "\n",
    "Bayesian cluster expansions (CEs) are a flexible approach to infer physical knowledge about the system by formulating priors for the effective cluster interactions (ECIs) and including them in an inverse covariance matrix [Mueller and Ceder (2009)](https://doi.org/10.1103/PhysRevB.80.024103). \n",
    "Here, we showcase the use of Bayesian CEs for a low symmetry system, namely a surface slab, to couple similar orbits.\n",
    "We will use a 10-layer surface slab of a Au-Pd alloys and use priors to couple orbits far from the surface. \n",
    "We refer to the [tutorial on customizing cluster spaces](customizing_cluster_spaces.ipynb) for an introduction on how to inspect a cluster space to figure out which orbits are far from the surface. \n",
    "\n",
    "A more comprehensive tutorial on Bayesian cluster expansions can be found [here](https://ce-tutorials.materialsmodeling.org/part-2/low-symmetry-ce.html#Bayesian-CE).\n",
    "\n",
    "In the Bayesian cluster expansion (CE) framework, priors are formulated for the effective cluster interactions (ECI) and included in an inverse covariance matrix to infer physical knowledge about the system.\n",
    "We use gaussian priors for the ECI on the form\n",
    "$$\n",
    "P(\\vec{w}|\\vec{X}) \\propto \\prod_\\alpha e^{-w_\\alpha^2/2\\sigma_\\alpha^2} \\prod_{\\alpha, \\beta\\neq\\alpha} e^{-(w_\\alpha-w_\\beta)^2/2\\sigma_{\\alpha\\beta}^2}.\n",
    "$$\n",
    "where $\\vec{w}$ are the ECIs, $\\vec{X}$ is the sensing matrix, $\\sigma_\\alpha$ is a regularization parameter for orbit $\\alpha$ and $\\sigma_{\\alpha\\beta}$ is a coupling strength between orbits $\\alpha$ and $\\beta$.\n",
    "By tuning $\\sigma_\\alpha$ we can thus control the size of $w_\\alpha$ while $\\sigma_{\\alpha\\beta}$ controls the coupeling between two orbits such that a lower value will yield more similar ECI.\n",
    "\n",
    "From here, we directly obtain the maximum likelihood estimate for the ECI via the `least-squares-with-reg-matrix` fit method implemented in `trainstation`. It would also be possible to formulate an expression for the posterior probability $P(\\vec{w}|\\vec{y}, \\vec{X})$ that can e.g. be sampled with Markov chain Monte Carlo, but that is beyond the scope of this tutorial."
   ]
  },
  {
   "cell_type": "markdown",
   "id": "0abd369f-87b0-4890-9f88-3a021d7edde3",
   "metadata": {},
   "source": [
    "## Setting up a cluster space \n",
    "\n",
    "In this tutorial, we use a binary 10-layer surface slab as an example system and couple orbits of the same order and radius far from the surface, since these orbits should be similar to the corresponding orbit in a bulk system. "
   ]
  },
  {
   "cell_type": "code",
   "execution_count": 1,
   "id": "d542df87-0815-42e9-9163-3bc9e5b44ea1",
   "metadata": {},
   "outputs": [
    {
     "data": {
      "text/html": [
       "<h4>Cluster Space</h4><table border=\"1\" class=\"dataframe\"><thead><tr><th style=\"text-align: left;\">Field</th><th>Value</th></tr></thead><tbody><tr><td style=\"text-align: left;\">Space group</td><td>P-3m1 (164)</td></tr><tr><td style=\"text-align: left;\">Sublattice A</td><td>('Au', 'Pd')</td></tr><tr><td style=\"text-align: left;\">Cutoffs</td><td>[3.0]</td></tr><tr><td style=\"text-align: left;\">Total number of parameters</td><td>16</td></tr><tr><td style=\"text-align: left;\">Number of parameters of order 0</td><td>1</td></tr><tr><td style=\"text-align: left;\">Number of parameters of order 1</td><td>5</td></tr><tr><td style=\"text-align: left;\">Number of parameters of order 2</td><td>10</td></tr><tr><td style=\"text-align: left;\">fractional_position_tolerance</td><td>2e-06</td></tr><tr><td style=\"text-align: left;\">position_tolerance</td><td>1e-05</td></tr><tr><td style=\"text-align: left;\">symprec</td><td>1e-05</td></tr></tbody></table>"
      ],
      "text/plain": [
       "ClusterSpace(structure=Atoms(symbols='Au10', pbc=True, cell=[[2.8284271247461903, 0.0, 0.0], [-1.4142135623730954, 2.4494897427831783, 0.0], [0.0, 0.0, 40.784609690826535]]), cutoffs=[3.0], chemical_symbols=['Au', 'Pd'], position_tolerance=1e-05)"
      ]
     },
     "metadata": {},
     "output_type": "display_data"
    }
   ],
   "source": [
    "from icet import ClusterSpace\n",
    "from ase.build import fcc111\n",
    "\n",
    "structure = fcc111('Au', size=(1, 1, 10), a=4.0, vacuum=10, periodic=True)\n",
    "\n",
    "# Set up cluster space\n",
    "cs = ClusterSpace(\n",
    "    structure=structure,\n",
    "    cutoffs=[3.0],\n",
    "    chemical_symbols=['Au', 'Pd'])\n",
    "display(cs)"
   ]
  },
  {
   "cell_type": "markdown",
   "id": "cbce5ecf-2d7a-47ca-9fa0-7b6f0931ee08",
   "metadata": {},
   "source": [
    "The ECIs correspond to the zerolet, 5 singlets and 10 nearest neightbor pairs. \n",
    "\n",
    "The system consists of 5 symmetrically inequivalent sites indexed such that site 0 is in the surface layer, site 1 in the subsurface, ..., and site 4 is in the middle of the slab.\n",
    "We consider all orbits which include sites 0 and 1 to belong to the surface and all other orbits to be bulk orbits which should be coupled. \n",
    "\n",
    "We print the sites of all orbits to determine which orbits are bulk sites:"
   ]
  },
  {
   "cell_type": "code",
   "execution_count": 2,
   "id": "2c2ba1c3-b599-4f7c-9523-6a88b4607256",
   "metadata": {
    "tags": []
   },
   "outputs": [
    {
     "name": "stdout",
     "output_type": "stream",
     "text": [
      "Orbit 0 sites:  [0]\n",
      "Orbit 1 sites:  [1]\n",
      "Orbit 2 sites:  [2]\n",
      "Orbit 3 sites:  [3]\n",
      "Orbit 4 sites:  [4]\n",
      "Orbit 5 sites:  [4, 5]\n",
      "Orbit 6 sites:  [0, 0]\n",
      "Orbit 7 sites:  [0, 1]\n",
      "Orbit 8 sites:  [1, 1]\n",
      "Orbit 9 sites:  [1, 2]\n",
      "Orbit 10 sites:  [2, 2]\n",
      "Orbit 11 sites:  [2, 3]\n",
      "Orbit 12 sites:  [3, 3]\n",
      "Orbit 13 sites:  [3, 4]\n",
      "Orbit 14 sites:  [4, 4]\n"
     ]
    }
   ],
   "source": [
    "for i, orb in enumerate(cs.orbit_list):\n",
    "    print(f'Orbit {i} sites: ', orb.sites)"
   ]
  },
  {
   "cell_type": "markdown",
   "id": "4a14dacd-0a70-47e5-8d23-2fe3f1572a2d",
   "metadata": {},
   "source": [
    "We find that the singlets corresponding to orbits 2-4 should be coupled as well as the pairs corresponding to orbits 5, 10-14 should be coupled. "
   ]
  },
  {
   "cell_type": "markdown",
   "id": "e9758bad-4273-4786-b7eb-d902fe7930ed",
   "metadata": {},
   "source": [
    "## Setting up the inverse covariance matrix\n",
    "\n",
    "The inverse covariance matrix $\\Lambda$ is a quadratic matrix with size determined by the number of ECIs. It has diagonal elements $\\Lambda_{\\alpha\\alpha} = \\frac{\\sigma^2}{\\sigma_\\alpha^2} + \\sum_{\\beta\\neq\\alpha}\\frac{\\sigma^2}{\\sigma_{\\alpha\\beta}^2}$ and off-diagonal elements $\\Lambda_{\\alpha\\beta}=\\Lambda_{\\beta\\alpha}=-\\frac{\\sigma^2}{\\sigma_{\\alpha\\beta}^2}$,\n",
    "where $\\sigma$ is a scaling parameter reflecting the typical error of the model.\n",
    "\n",
    "Note that the cluster space and orbit list indexing differ.\n",
    "For a simple binary system, they differ by 1 due since the zerolet is not included in the orbit list.\n",
    "For systems with more than two species, the difference will be more complex due to the inclusion of different multicomponent vectors in the cluster space but not the orbit list.\n",
    "This is important since the indexing of the covariance matrix follows is the same as for the cluster space, so the orbit indices needs to be adjusted accordingly. \n",
    "\n",
    "Below we show how the inverse covariance matrix can be set up."
   ]
  },
  {
   "cell_type": "code",
   "execution_count": 3,
   "id": "f270120f-8946-4af7-8631-e0822e3b05e1",
   "metadata": {
    "tags": []
   },
   "outputs": [],
   "source": [
    "import numpy as np\n",
    "\n",
    "# Helper function for setting up the inverse covariance matrix\n",
    "def setup_inv_cov_matrix(ncols, orbits_to_couple, sigma_a, sigma_ab, sigma=1.0):\n",
    "    # Fill diagnoal\n",
    "    inv_cov = (sigma / sigma_a)**2 * np.eye(ncols)\n",
    "    \n",
    "    # Create list where each item is a list of similar orbits and loop over \n",
    "    similar = [[key] + val for (key, val) in orbits_to_couple.items()]\n",
    "    for similar_indicies in similar:\n",
    "        # Loop over the similar orbit indicies\n",
    "        for ii, i in enumerate(similar_indicies):\n",
    "            # Loop over the subsequent similar orbit indicies\n",
    "            for j in similar_indicies[ii+1:]:\n",
    "                # Now indicies i and j corresponds to two similar orbits\n",
    "                \n",
    "                # Change diagnoals ii and jj \n",
    "                # We need to add + 1 because the orbit list and cluster space\n",
    "                # (=ECI) indexing differ by 1 due to the zerolet (which is not\n",
    "                # included in the orbit list)\n",
    "                inv_cov[i+1, i+1] += (sigma / sigma_ab)**2\n",
    "                inv_cov[j+1, j+1] += (sigma / sigma_ab)**2\n",
    "                \n",
    "                # Change non-diagnoals ij and ji\n",
    "                inv_cov[i+1, j+1] = - (sigma / sigma_ab)**2\n",
    "                inv_cov[j+1, i+1] = - (sigma / sigma_ab)**2\n",
    "    return inv_cov\n",
    "\n",
    "# Number of parameters/columns of the sensing matrix\n",
    "ncols = len(cs)\n",
    "\n",
    "# Orbits to couple (any of the orbits can be the key)\n",
    "orbits_to_couple = {2: [3, 4], \n",
    "                    5: [10, 11, 12, 13, 14]}\n",
    "\n",
    "# Select values for sigma_a (regularization) and sigma_ab\n",
    "# (coupling between orbits)\n",
    "sigma_a = 10\n",
    "sigma_ab = 0.01\n",
    "\n",
    "# Setup inverse covariance matrix\n",
    "inv_cov = setup_inv_cov_matrix(ncols, orbits_to_couple, sigma_a, sigma_ab)"
   ]
  },
  {
   "cell_type": "markdown",
   "id": "4759f9b1-6c29-4d9d-a851-da9a15dc079c",
   "metadata": {},
   "source": [
    "## Training a cluster expansion\n",
    "\n",
    "Next, we set up some random training data and train a cluster expansion using the inverse covariance matrix. \n",
    "\n",
    "**A very important consideration** if the coupled orbits have different multiplicities (as is the case here for orbit 5 vs. orbits 10-14) is how the multiplicities are treated.\n",
    "In `icet`, multiplicites are included in the ECIs which means that the actual ECI of orbit 5 will be double the ECIs of orbits 10-14 if we simply continue to couple them.\n",
    "To get around this, one need to either rescale the inverse covariance matrix or move the multiplicities to the sensing matrix during training and then move them back to the ECIs afterwards. Here chose the second approach. "
   ]
  },
  {
   "cell_type": "code",
   "execution_count": 4,
   "id": "b7564765-50d0-4565-b27a-725969c043cb",
   "metadata": {
    "tags": []
   },
   "outputs": [],
   "source": [
    "from icet import ClusterExpansion\n",
    "from trainstation import CrossValidationEstimator\n",
    "\n",
    "# Set up a random sensing matrix A and target vector y, these would\n",
    "# normally be obtained by `A, y = StructureContainer.get_fit_data()`\n",
    "A = np.random.random((20, ncols))\n",
    "y = np.random.random(20)\n",
    "\n",
    "# Get multiplicities and include them in sensing matrix\n",
    "M = np.array(cs.get_multiplicities())\n",
    "A_with_M = A*(M.T)\n",
    "\n",
    "# Train using least squares\n",
    "fit_kwargs = dict(reg_matrix = inv_cov)\n",
    "opt = CrossValidationEstimator(fit_data=(A_with_M, y), \n",
    "                               fit_method='least-squares-with-reg-matrix', \n",
    "                               **fit_kwargs)\n",
    "opt.validate()\n",
    "opt.train()\n",
    "\n",
    "parameters_wo_M = opt.parameters.copy()\n",
    "\n",
    "# Multiply parameters with multiplicities\n",
    "parameters_w_M = parameters_wo_M * M\n",
    "\n",
    "# Finally, construct the CE\n",
    "ce = ClusterExpansion(cluster_space=cs, parameters=parameters_w_M)"
   ]
  },
  {
   "cell_type": "markdown",
   "id": "19f2811d-497f-4aa3-a53d-5b9eb4ace3d9",
   "metadata": {},
   "source": [
    "Lastly, we inspect the ECIs and find that orbits 2-4 as well as orbits 5, 10-14 have very similar values as intended. "
   ]
  },
  {
   "cell_type": "code",
   "execution_count": 5,
   "id": "37d7d5aa-5af9-4645-8aa8-e92caf90ee19",
   "metadata": {
    "tags": []
   },
   "outputs": [
    {
     "data": {
      "image/png": "[encoded data removed]",
      "text/plain": [
       "<Figure size 560x392 with 1 Axes>"
      ]
     },
     "metadata": {},
     "output_type": "display_data"
    }
   ],
   "source": [
    "from matplotlib import pyplot as plt \n",
    "\n",
    "fig, ax = plt.subplots(figsize=(4, 2.8), dpi=140)\n",
    "\n",
    "ax.bar(range(-1, 15), parameters_wo_M)\n",
    "ax.bar([2, 3, 4], [p for i, p in enumerate(parameters_wo_M) if i-1 in [2, 3, 4]])\n",
    "ax.bar([5, 10, 11, 12, 13, 14], [p for i, p in enumerate(parameters_wo_M) \n",
    "                                 if i-1 in [5, 10, 11, 12, 13, 14]])\n",
    "\n",
    "ax.set_xticks(range(-1, 15))\n",
    "ax.set_ylabel('ECI')\n",
    "ax.set_xlabel('Orbit index')\n",
    "\n",
    "fig.tight_layout()"
   ]
  }
 ],
 "metadata": {
  "kernelspec": {
   "display_name": "Python 3 (ipykernel)",
   "language": "python",
   "name": "python3"
  },
  "language_info": {
   "codemirror_mode": {
    "name": "ipython",
    "version": 3
   },
   "file_extension": ".py",
   "mimetype": "text/x-python",
   "name": "python",
   "nbconvert_exporter": "python",
   "pygments_lexer": "ipython3",
   "version": "3.10.12"
  }
 },
 "nbformat": 4,
 "nbformat_minor": 5
}
