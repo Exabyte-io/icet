{
 "cells": [
  {
   "cell_type": "raw",
   "id": "6ea83443-8248-46ec-9f0e-6fca8de4f813",
   "metadata": {
    "editable": true,
    "nbsphinx": "hidden",
    "raw_mimetype": "",
    "slideshow": {
     "slide_type": ""
    },
    "tags": []
   },
   "source": [
    ".. _customizing_cluster_spaces:\n",
    ".. index::\n",
    "   single: Examples; Customizing cluster spaces"
   ]
  },
  {
   "cell_type": "markdown",
   "id": "4eebf16d-7b21-4405-b209-03739de1e814",
   "metadata": {
    "editable": true,
    "slideshow": {
     "slide_type": ""
    },
    "tags": []
   },
   "source": [
    "# Customizing cluster spaces\n",
    "\n",
    "Here, we will show how cluster spaces can be customized to construct better CEs for low symmetry systems by introducing local symmetries.\n",
    "We consider a simple binary surface slab and show how orbits can be merged based on physical intuition to reduce the number of parameters. \n",
    "\n",
    "A more comprehensive tutorial on the subject can be found [here](https://ce-tutorials.materialsmodeling.org/part-2/low-symmetry-ce.html#Merged-CE).\n",
    "\n",
    "When analyzing a structure `icet` uses all available crystal symmetries to determine which clusters are symmetry equivalent and hence belong to the same orbit.\n",
    "This is a rigorous and well defined procedure.\n",
    "For systems of lower symmetry, it can, however, lead to a large number of orbits and hence ECIs.\n",
    "At the same time, one can often still find \"local\" symmetries in these systems and physical (or chemical) intuition tells us that the parameters associated with such clusters should be very similar (even if they are not strictly identical)."
   ]
  },
  {
   "cell_type": "markdown",
   "id": "df341697-2958-4380-a7ee-941dcd557dca",
   "metadata": {},
   "source": [
    "## A motivating example\n",
    "\n",
    "For illustration consider the construction of a model for a (111) FCC surface.\n",
    "Using `ase` we can readily construct a 10-layer slab representing such a system and construct a corresponding cluster space."
   ]
  },
  {
   "cell_type": "code",
   "execution_count": 1,
   "id": "b54a6b6d-4abb-48d8-9241-e983ad18a997",
   "metadata": {
    "tags": []
   },
   "outputs": [
    {
     "data": {
      "text/html": [
       "<h4>Cluster Space</h4><table border=\"1\" class=\"dataframe\"><thead><tr><th style=\"text-align: left;\">Field</th><th>Value</th></tr></thead><tbody><tr><td style=\"text-align: left;\">Space group</td><td>P-3m1 (164)</td></tr><tr><td style=\"text-align: left;\">Sublattice A</td><td>('Au', 'Pd')</td></tr><tr><td style=\"text-align: left;\">Cutoffs</td><td>[3.0]</td></tr><tr><td style=\"text-align: left;\">Total number of parameters</td><td>16</td></tr><tr><td style=\"text-align: left;\">Number of parameters of order 0</td><td>1</td></tr><tr><td style=\"text-align: left;\">Number of parameters of order 1</td><td>5</td></tr><tr><td style=\"text-align: left;\">Number of parameters of order 2</td><td>10</td></tr><tr><td style=\"text-align: left;\">fractional_position_tolerance</td><td>2e-06</td></tr><tr><td style=\"text-align: left;\">position_tolerance</td><td>1e-05</td></tr><tr><td style=\"text-align: left;\">symprec</td><td>1e-05</td></tr></tbody></table>"
      ],
      "text/plain": [
       "ClusterSpace(structure=Atoms(symbols='Au10', pbc=True, cell=[[2.8284271247461903, 0.0, 0.0], [-1.4142135623730954, 2.4494897427831783, 0.0], [0.0, 0.0, 40.784609690826535]]), cutoffs=[3.0], chemical_symbols=['Au', 'Pd'], position_tolerance=1e-05)"
      ]
     },
     "metadata": {},
     "output_type": "display_data"
    }
   ],
   "source": [
    "from icet import ClusterSpace\n",
    "from ase.build import fcc111\n",
    "\n",
    "structure = fcc111('Au', size=(1, 1, 10), a=4.0, vacuum=10, periodic=True)\n",
    "\n",
    "# Set up cluster space\n",
    "cs = ClusterSpace(structure=structure, cutoffs=[3.0], chemical_symbols=['Au', 'Pd'])\n",
    "display(cs)"
   ]
  },
  {
   "cell_type": "markdown",
   "id": "15800451-0733-4e47-8c51-ca471bcd5ff5",
   "metadata": {},
   "source": [
    "This cluster space comprises 5 singlets and 10 pairs. For this binary system one thus obtains 15 ECIs including only the zerolet, singlets and nearest neighbour pairs. In practice, one would typically use longer cutoffs and higher orders, quickly leading to a very large number of parameters. "
   ]
  },
  {
   "cell_type": "markdown",
   "id": "d00e628c-dcd9-4440-91a4-f25b62d6c225",
   "metadata": {},
   "source": [
    "## Inspecting orbits\n",
    "\n",
    "We can print the orbits in order to get information about which sites are included in the representative cluster.\n",
    "Note that, as indicated in the `ClusterSpace` printout above, the index of the cluster space and the orbit list differ.\n",
    "For a simple binary system, they differ by 1 due since the zerolet is not included in the orbit list.\n",
    "For systems with more than two species, the difference will be more complex due to the inclusion of different multicomponent vectors in the cluster space but not the orbit list. \n",
    "\n",
    "We start by inspecting the singlets. "
   ]
  },
  {
   "cell_type": "code",
   "execution_count": 2,
   "id": "ba39c1be-4b00-496a-9b41-fd3e2c615652",
   "metadata": {
    "tags": []
   },
   "outputs": [
    {
     "name": "stdout",
     "output_type": "stream",
     "text": [
      "Order: 1\n",
      "Multiplicity: 2\n",
      "Radius: 0.0000\n",
      "Representative cluster:\n",
      "\tSite: 0,\tOffset:   0  0  0,\tPosition:   0.00   0.00  10.00\n",
      "\n",
      "Order: 1\n",
      "Multiplicity: 2\n",
      "Radius: 0.0000\n",
      "Representative cluster:\n",
      "\tSite: 1,\tOffset:   0  0  0,\tPosition:   1.41   0.82  12.31\n",
      "\n",
      "Order: 1\n",
      "Multiplicity: 2\n",
      "Radius: 0.0000\n",
      "Representative cluster:\n",
      "\tSite: 2,\tOffset:   0  0  0,\tPosition:  -0.00   1.63  14.62\n",
      "\n",
      "Order: 1\n",
      "Multiplicity: 2\n",
      "Radius: 0.0000\n",
      "Representative cluster:\n",
      "\tSite: 3,\tOffset:   0  0  0,\tPosition:   0.00   0.00  16.93\n",
      "\n",
      "Order: 1\n",
      "Multiplicity: 2\n",
      "Radius: 0.0000\n",
      "Representative cluster:\n",
      "\tSite: 4,\tOffset:   0  0  0,\tPosition:   1.41   0.82  19.24\n",
      "\n"
     ]
    }
   ],
   "source": [
    "for i in range(0, 5):\n",
    "    print(cs.orbit_list[i])"
   ]
  },
  {
   "cell_type": "markdown",
   "id": "ef14a90d-663e-4299-ba20-6ca627c982cb",
   "metadata": {},
   "source": [
    "From the positions, we find that the first singlet is at the surface (remember the vacuum region), the second is in the subsurface etc., until we reach the middle of the slab for the fifth singlet.\n",
    "We also note that the symmetrically inequivalent sites of the lattice follows the same indexing with e.g. site 0 corresponding to the surface and site 4 to the middle of the slab.\n",
    "There will also be sites 5-9 where e.g. site 5 is equivalent to site 4  and site 9 is equivalent to site 0. \n",
    "\n",
    "Next, we inspect the pairs.\n",
    "We can print them in the same way, or we can chose to only print the specific property we are interested in, in this case the involved sites."
   ]
  },
  {
   "cell_type": "code",
   "execution_count": 3,
   "id": "b8ada7b7-1c49-4896-9520-cef3f910a001",
   "metadata": {
    "tags": []
   },
   "outputs": [
    {
     "name": "stdout",
     "output_type": "stream",
     "text": [
      "Orbit 5 sites: [4, 5]\n",
      "Orbit 6 sites: [0, 0]\n",
      "Orbit 7 sites: [0, 1]\n",
      "Orbit 8 sites: [1, 1]\n",
      "Orbit 9 sites: [1, 2]\n",
      "Orbit 10 sites: [2, 2]\n",
      "Orbit 11 sites: [2, 3]\n",
      "Orbit 12 sites: [3, 3]\n",
      "Orbit 13 sites: [3, 4]\n",
      "Orbit 14 sites: [4, 4]\n"
     ]
    }
   ],
   "source": [
    "for i in range(5, 15):\n",
    "    print(f'Orbit {i} sites:', cs.orbit_list[i].sites)"
   ]
  },
  {
   "cell_type": "markdown",
   "id": "22a337b0-545c-47e6-9a50-7b221844bfc0",
   "metadata": {},
   "source": [
    "We find that Orbit 5 is the pair between the two middle layers, Orbit 6 is the in-place surface orbit etc. \n",
    "\n",
    "Based on physical intuition, we can expect corresponding clusters in the center of the slab to behave nearly identical, i.e., the ECIs associated with, say, the fourth and fifth singlets should be very close if not identical, and similarly for pairs, triplets etc."
   ]
  },
  {
   "cell_type": "markdown",
   "id": "dcd52dfe-c21f-4302-81f2-9e814e183135",
   "metadata": {},
   "source": [
    "## Merging orbits\n",
    "\n",
    "To handle such situations, `icet` allows one to merge orbits via the `merge_orbits` function.\n",
    "Which orbits should be merged is entirely up to the user.\n",
    "In the present example, one could for example chose to treat sites 0-1 as surface sites and 2-4 as bulk sites, and merge all orbits (of the same order and radius) consisting of only bulk sites.\n",
    "The following snippet achieves this by merging the singlets corresponding to orbits 2-4 and the pairs corresponding to orbits 5 and 10-14. "
   ]
  },
  {
   "cell_type": "code",
   "execution_count": 4,
   "id": "7264a6c4-3fec-4c78-a879-ea5e5e3fa440",
   "metadata": {
    "tags": []
   },
   "outputs": [
    {
     "data": {
      "text/html": [
       "<h4>Cluster Space</h4><table border=\"1\" class=\"dataframe\"><thead><tr><th style=\"text-align: left;\">Field</th><th>Value</th></tr></thead><tbody><tr><td style=\"text-align: left;\">Space group</td><td>P-3m1 (164)</td></tr><tr><td style=\"text-align: left;\">Sublattice A</td><td>('Au', 'Pd')</td></tr><tr><td style=\"text-align: left;\">Cutoffs</td><td>[3.0]</td></tr><tr><td style=\"text-align: left;\">Total number of parameters</td><td>9</td></tr><tr><td style=\"text-align: left;\">Number of parameters of order 0</td><td>1</td></tr><tr><td style=\"text-align: left;\">Number of parameters of order 1</td><td>3</td></tr><tr><td style=\"text-align: left;\">Number of parameters of order 2</td><td>5</td></tr><tr><td style=\"text-align: left;\">fractional_position_tolerance</td><td>2e-06</td></tr><tr><td style=\"text-align: left;\">position_tolerance</td><td>1e-05</td></tr><tr><td style=\"text-align: left;\">symprec</td><td>1e-05</td></tr></tbody></table>"
      ],
      "text/plain": [
       "ClusterSpace(structure=Atoms(symbols='Au10', pbc=True, cell=[[2.8284271247461903, 0.0, 0.0], [-1.4142135623730954, 2.4494897427831783, 0.0], [0.0, 0.0, 40.784609690826535]]), cutoffs=[3.0], chemical_symbols=['Au', 'Pd'], position_tolerance=1e-05)"
      ]
     },
     "metadata": {},
     "output_type": "display_data"
    }
   ],
   "source": [
    "# The merging information is provided as a dictionary with any of the orbits to merge as the key\n",
    "cs.merge_orbits({2: [3, 4],\n",
    "                 5: [10, 11, 12, 13, 14]})\n",
    "display(cs)"
   ]
  },
  {
   "cell_type": "markdown",
   "id": "6a89ebdf-24c1-4ce4-806a-f2e75c6d1b69",
   "metadata": {},
   "source": [
    "By merging bulk singlet and pair orbits we have cut the number of parameters almost by half, from 16 to 9.\n",
    "The cluster space obtained in this fashion can be used for constructing and sampling cluster expansions in exactly the same way as if no orbits had been merged."
   ]
  }
 ],
 "metadata": {
  "kernelspec": {
   "display_name": "Python 3 (ipykernel)",
   "language": "python",
   "name": "python3"
  },
  "language_info": {
   "codemirror_mode": {
    "name": "ipython",
    "version": 3
   },
   "file_extension": ".py",
   "mimetype": "text/x-python",
   "name": "python",
   "nbconvert_exporter": "python",
   "pygments_lexer": "ipython3",
   "version": "3.10.12"
  }
 },
 "nbformat": 4,
 "nbformat_minor": 5
}
