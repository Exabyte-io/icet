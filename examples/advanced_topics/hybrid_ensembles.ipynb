{
 "cells": [
  {
   "cell_type": "raw",
   "id": "fa967c63-aa31-4433-bc29-cf223fe1a0f0",
   "metadata": {
    "editable": true,
    "nbsphinx": "hidden",
    "raw_mimetype": "",
    "slideshow": {
     "slide_type": ""
    },
    "tags": []
   },
   "source": [
    ".. _advanced_topics_parallel_monte_carlo_simulations:\n",
    ".. index::\n",
    "   single: Advanced topics; Hybrid ensembles"
   ]
  },
  {
   "cell_type": "markdown",
   "id": "8751a113-3109-484c-804a-ddc850d0dd96",
   "metadata": {
    "editable": true,
    "slideshow": {
     "slide_type": ""
    },
    "tags": []
   },
   "source": [
    "# Hybrid ensembles\n",
    "\n",
    "In systems with multiple sublattices, it can sometimes be advantageous to use different thermodynamical ensembles for different sublattices in a single Monte Carlo simulation.\n",
    "This can for example be relevant in systems in which one sublattice does not exchange atoms with the environment (closed system) while the other does (open system).\n",
    "Metallic alloys exposed to hydrogen are examples where this is often the case (for an example, see [Rahm et al. (2021)](https://doi.org/10.1016/j.actamat.2021.116893)).\n",
    "This tutorial demonstrates how sublattice specific ensembles can be used in `mchammer` using the `HybridEnsemble` class.\n",
    "It is also shown how this class can be used to control the involved species and sites in a Monte Carlo simulation. "
   ]
  },
  {
   "cell_type": "markdown",
   "id": "c44f8b36-95d9-4de4-beb6-4554984f72c8",
   "metadata": {
    "editable": true,
    "slideshow": {
     "slide_type": ""
    },
    "tags": []
   },
   "source": [
    "As in any Monte Carlo simulation with `mchammer`, the first steps are to define a simulation cell and to construct a `ClusterExpansionCalculator` object.\n",
    "To this end, we first construct a toy `ClusterExpansion` for a system with two sublattices, one occupied by Pd/Au and one occupied by H and vacancies."
   ]
  },
  {
   "cell_type": "code",
   "execution_count": 1,
   "id": "712dd8b0-e08f-4dc5-8d3b-c3add0e57aae",
   "metadata": {
    "tags": []
   },
   "outputs": [],
   "source": [
    "from ase import Atom\n",
    "from ase.build import bulk\n",
    "from icet import ClusterSpace, ClusterExpansion\n",
    "from mchammer.calculators import ClusterExpansionCalculator\n",
    "\n",
    "# Set up cluster expansion, structure and calculator\n",
    "prim = bulk('Pd', a=4.0)\n",
    "prim.append(Atom('H', position=(2, 2, 2)))\n",
    "cs = ClusterSpace(prim, cutoffs=[3], chemical_symbols=[('Au', 'Pd'), ('H', 'X')])\n",
    "ce = ClusterExpansion(cluster_space=cs, parameters=[-0.15, 0, 0, 0, 0.1, 0.05])\n",
    "structure = prim.repeat(5)\n",
    "calculator = ClusterExpansionCalculator(structure, ce)"
   ]
  },
  {
   "cell_type": "markdown",
   "id": "9e86bf1e-dbb9-40aa-ab2f-b0ddf2811739",
   "metadata": {
    "editable": true,
    "slideshow": {
     "slide_type": ""
    },
    "tags": []
   },
   "source": [
    "We then define the parameters that will enter our Monte Carlo simulation.\n",
    "Here, we will run a simulation in which the Pd-Au sublattice is sampled in the canonical ensemble and the H-vacancy sublattice in the semi-grand canonical ensemble.\n",
    "The ensembles are specified via a list of dictionaries, which define the parameters specific to each ensemble. Moreover, since the concentrations on the Pd-Au sublattice are fixed once a starting configuration is defined, we must also create a supercell with the desired concentration.\n",
    "(Note that the concentrations on the H-vacancy sublattice will change during the simulation since concentrations are not conserved in the semi-grand canonical ensemble, hence the choice of starting concentrations on the H-vacancy sublattice is unimportant.)"
   ]
  },
  {
   "cell_type": "code",
   "execution_count": 2,
   "id": "e29217b6-977a-46ab-b9eb-5147fce56b42",
   "metadata": {
    "tags": []
   },
   "outputs": [],
   "source": [
    "from os import mkdir\n",
    "from icet.tools.structure_generation import occupy_structure_randomly\n",
    "\n",
    "# Carry out Monte Carlo simulations\n",
    "# Make sure output directory exists\n",
    "output_directory = 'monte_carlo_data'\n",
    "try:\n",
    "    mkdir(output_directory)\n",
    "except FileExistsError:\n",
    "    pass\n",
    "\n",
    "muH = -0.1\n",
    "temp = 300\n",
    "cAu = 0.2\n",
    "cH_start = 0.2\n",
    "ensemble_specs = [{'ensemble': 'canonical', 'sublattice_index': 0},\n",
    "                  {'ensemble': 'semi-grand', 'sublattice_index': 1,\n",
    "                   'chemical_potentials': {'H': muH, 'X': 0}}]\n",
    "occupy_structure_randomly(structure=structure,\n",
    "                          cluster_space=cs,\n",
    "                          target_concentrations={'A': {'Pd': 1 - cAu, 'Au': cAu},\n",
    "                                                 'B': {'H': cH_start, 'X': 1 - cH_start}})"
   ]
  },
  {
   "cell_type": "markdown",
   "id": "3080711b-1e36-422c-9484-5d261cb65a50",
   "metadata": {},
   "source": [
    "Finally, we define our `HybridEnsemble` and commence the simulation."
   ]
  },
  {
   "cell_type": "code",
   "execution_count": 3,
   "id": "a42e6df0-e0c7-4552-825d-dde1acc5595c",
   "metadata": {
    "tags": []
   },
   "outputs": [],
   "source": [
    "from mchammer.ensembles import HybridEnsemble\n",
    "\n",
    "# Construct ensemble and run\n",
    "mc = HybridEnsemble(\n",
    "    structure=structure,\n",
    "    calculator=calculator,\n",
    "    temperature=300,\n",
    "    ensemble_specs=ensemble_specs,\n",
    "    dc_filename=f'{output_directory}/hybrid-T{temp}-muH{muH:+.3f}-cAu{cAu:.3f}.dc')\n",
    "\n",
    "mc.run(number_of_trial_steps=len(structure) * 10)"
   ]
  },
  {
   "cell_type": "markdown",
   "id": "e09a468a-0ddf-4eb5-8d3e-3f8340dffdbc",
   "metadata": {},
   "source": [
    "The `HybridEnsemble` can also be used together with the variance-constrained semi-grand canonical (VCGSC) ensemble.\n",
    "The following is a valid specification for a simulation with the canonical ensemble on the Pd/Au sublattice and VCSGC on the H/vacancy sublattice:"
   ]
  },
  {
   "cell_type": "code",
   "execution_count": 4,
   "id": "d8c21226-764a-4154-8888-f1d2df90165b",
   "metadata": {
    "tags": []
   },
   "outputs": [],
   "source": [
    "ensemble_specs = [{'ensemble': 'canonical', 'sublattice_index': 0},\n",
    "                  {'ensemble': 'vcsgc', 'sublattice_index': 1,\n",
    "                   'phis': {'H': 0.5}, 'kappa': 200}]"
   ]
  },
  {
   "cell_type": "markdown",
   "id": "351f2216-327f-48e4-8dc9-9e53ebd3a645",
   "metadata": {
    "editable": true,
    "slideshow": {
     "slide_type": ""
    },
    "tags": []
   },
   "source": [
    "## Controlling the species and sites involved\n",
    "\n",
    "Within the `HybridEnsemble`, it is possible to also specify the `allowed_species` and `allowed_sites`, i.e., which chemical species and sites of the supercell that are allowed to be involved in a trial step.\n",
    "Here, we show how these functionalities can be used for a ternary surface system where only the surface region is allowed to change and only two of the chemical species are allowed in the surface region. \n",
    "\n",
    "First, we setup a toy cluster expansion for a 6 layer AuCuPd surface slab. "
   ]
  },
  {
   "cell_type": "code",
   "execution_count": 5,
   "id": "7fc008ee-7468-44fb-bbf0-96b7453140d3",
   "metadata": {
    "tags": []
   },
   "outputs": [],
   "source": [
    "from icet import ClusterSpace, ClusterExpansion\n",
    "from ase.build import fcc111\n",
    "\n",
    "prim = fcc111('Au', size=(1, 1, 6), a=4.0, vacuum=10, periodic=True)\n",
    "\n",
    "# Set up toy Cluster Expansion\n",
    "cs = ClusterSpace(structure=prim, cutoffs=[0.0], chemical_symbols=['Au', 'Cu', 'Pd'])\n",
    "ce = ClusterExpansion(cluster_space=cs, parameters=[0, -0.25, 0.5, 0.05, 0.02, 0.03, -0.02])"
   ]
  },
  {
   "cell_type": "markdown",
   "id": "f2ce5956-9300-42c5-9c98-8eea7231c309",
   "metadata": {
    "editable": true,
    "slideshow": {
     "slide_type": ""
    },
    "tags": []
   },
   "source": [
    "The primitive structure is a 6 layer surface slab, where the sites of lower and upper surface have indicies 0 and 5, respectively. We repeat the primitive structure to obtain a $3\\times3\\times6$ supercell for MC.\n",
    "The sites of the lower surface of the supercell will then have indices 0, 6, 12, ..., 48 and sites of the upper surface will have indices 5, 11, 17, ..., 53. "
   ]
  },
  {
   "cell_type": "code",
   "execution_count": 6,
   "id": "9fec4be6-9910-4908-8636-330a12151f99",
   "metadata": {
    "tags": []
   },
   "outputs": [
    {
     "name": "stdout",
     "output_type": "stream",
     "text": [
      "Allowed sites:  [0, 5, 6, 11, 12, 17, 18, 23, 24, 29, 30, 35, 36, 41, 42, 47, 48, 53]\n"
     ]
    }
   ],
   "source": [
    "from icet.tools.structure_generation import occupy_structure_randomly\n",
    "\n",
    "# Supercell for MC with random occupation\n",
    "structure = prim.repeat((3, 3, 1))\n",
    "occupy_structure_randomly(structure=structure,\n",
    "                          cluster_space=cs,\n",
    "                          target_concentrations={'Au': 10/54, 'Cu': 10/54, 'Pd': 34/54})\n",
    "\n",
    "# Set up a list of the allowed sites corresponding to the surface sites\n",
    "allowed_sites = [i + j*6 for j in range(9) for i in [0, 5]]\n",
    "print('Allowed sites: ', allowed_sites)\n",
    "\n",
    "# Change any surface Cu to Pd\n",
    "for i in allowed_sites:\n",
    "    if structure[i].symbol == 'Cu':\n",
    "        structure[i].symbol = 'Pd'"
   ]
  },
  {
   "cell_type": "markdown",
   "id": "d5f01450-0e77-4452-a3c8-d7e5cd31f778",
   "metadata": {},
   "source": [
    "Next, we set up a `HybridEnsemble` where we specify the `allowed_sites` from above as well as the `allowed_symbols: ['Au', 'Pd']` to avoid Cu in the surface region. Then we run the simulation."
   ]
  },
  {
   "cell_type": "code",
   "execution_count": 7,
   "id": "0f468550-f3e9-4abd-90e7-ad39551a671e",
   "metadata": {
    "tags": []
   },
   "outputs": [],
   "source": [
    "from mchammer.calculators import ClusterExpansionCalculator\n",
    "from mchammer.ensembles import HybridEnsemble\n",
    "\n",
    "calculator = ClusterExpansionCalculator(structure, ce)\n",
    "\n",
    "ensemble_specs = [{'ensemble': 'canonical', 'sublattice_index': 0, 'allowed_sites': allowed_sites, 'allowed_symbols': ['Au', 'Pd']}]\n",
    "\n",
    "mc = HybridEnsemble(structure=structure, calculator=calculator, \n",
    "                    temperature=300, ensemble_specs=ensemble_specs)\n",
    "\n",
    "mc.run(number_of_trial_steps=len(structure) * 10)"
   ]
  },
  {
   "cell_type": "markdown",
   "id": "48f7d9b0-28ff-446c-8fac-bdb8e02b8259",
   "metadata": {},
   "source": [
    "Lastly, we check all sites that were changed during the simulation and verify that only surface sites were affected and that no Cu were involved. "
   ]
  },
  {
   "cell_type": "code",
   "execution_count": 8,
   "id": "d07d341e-d75f-47ee-ac1e-ed45f0b7900d",
   "metadata": {
    "tags": []
   },
   "outputs": [
    {
     "name": "stdout",
     "output_type": "stream",
     "text": [
      "site 6: Au -> Pd\n",
      "site 12: Pd -> Au\n",
      "site 17: Au -> Pd\n",
      "site 18: Pd -> Au\n",
      "site 23: Au -> Pd\n",
      "site 30: Pd -> Au\n"
     ]
    }
   ],
   "source": [
    "changed_sites = []\n",
    "for i in range(len(structure)):\n",
    "    if (structure[i].symbol != mc.structure[i].symbol):\n",
    "        print(f'site {i}: {structure[i].symbol} -> {mc.structure[i].symbol}')\n",
    "        changed_sites.append(i)"
   ]
  }
 ],
 "metadata": {
  "kernelspec": {
   "display_name": "Python 3 (ipykernel)",
   "language": "python",
   "name": "python3"
  },
  "language_info": {
   "codemirror_mode": {
    "name": "ipython",
    "version": 3
   },
   "file_extension": ".py",
   "mimetype": "text/x-python",
   "name": "python",
   "nbconvert_exporter": "python",
   "pygments_lexer": "ipython3",
   "version": "3.10.12"
  }
 },
 "nbformat": 4,
 "nbformat_minor": 5
}
